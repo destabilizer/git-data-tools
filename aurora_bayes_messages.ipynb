{
 "cells": [
  {
   "cell_type": "code",
   "execution_count": 2,
   "metadata": {},
   "outputs": [],
   "source": [
    "import json"
   ]
  },
  {
   "cell_type": "code",
   "execution_count": 3,
   "metadata": {},
   "outputs": [],
   "source": [
    "aurora = json.load(open('/Users/Balaram.Usov/aurora_small_changes.json'))"
   ]
  },
  {
   "cell_type": "code",
   "execution_count": 6,
   "metadata": {},
   "outputs": [
    {
     "data": {
      "text/plain": [
       "['fix', 'test']"
      ]
     },
     "execution_count": 6,
     "metadata": {},
     "output_type": "execute_result"
    }
   ],
   "source": [
    "aurora[530]['categories']"
   ]
  },
  {
   "cell_type": "code",
   "execution_count": 8,
   "metadata": {},
   "outputs": [],
   "source": [
    "from small import gen_msg"
   ]
  },
  {
   "cell_type": "code",
   "execution_count": 9,
   "metadata": {},
   "outputs": [
    {
     "data": {
      "text/plain": [
       "'fix test'"
      ]
     },
     "execution_count": 9,
     "metadata": {},
     "output_type": "execute_result"
    }
   ],
   "source": [
    "gen_msg(aurora[530]['categories'])"
   ]
  },
  {
   "cell_type": "code",
   "execution_count": 5,
   "metadata": {},
   "outputs": [],
   "source": [
    "def cmsg(c):\n",
    "    return gen_msg(c['categories'])"
   ]
  },
  {
   "cell_type": "code",
   "execution_count": 7,
   "metadata": {},
   "outputs": [],
   "source": [
    "def process_commits(cl):\n",
    "    for c in cl:\n",
    "        c['bayes_message'] = cmsg(c)"
   ]
  },
  {
   "cell_type": "code",
   "execution_count": 8,
   "metadata": {},
   "outputs": [],
   "source": [
    "process_commits(aurora)"
   ]
  },
  {
   "cell_type": "code",
   "execution_count": 9,
   "metadata": {},
   "outputs": [
    {
     "data": {
      "text/plain": [
       "{'commit': 'eb4cd09df2fe4fdb0acf5b01559ac947c8c902f1',\n",
       " 'filePath': 'Aurora/source/com/intellij/ide/projectView/impl/nodes/PsiMethodNode.java',\n",
       " 'addedTokens': ['PsiMethod',\n",
       "  'psiMethod',\n",
       "  '\\n    ',\n",
       "  'psiMethod',\n",
       "  '==',\n",
       "  'null',\n",
       "  'false',\n",
       "  '\\n    ',\n",
       "  'psiMethod'],\n",
       " 'deletedTokens': [],\n",
       " 'message': 'no message',\n",
       " 'allTokens': ['psi',\n",
       "  'method',\n",
       "  'psi',\n",
       "  'method',\n",
       "  'psi',\n",
       "  'method',\n",
       "  'null',\n",
       "  'false',\n",
       "  'psi',\n",
       "  'method'],\n",
       " 'categories': ['fix', 'null'],\n",
       " 'bayes_message': 'fix npe'}"
      ]
     },
     "execution_count": 9,
     "metadata": {},
     "output_type": "execute_result"
    }
   ],
   "source": [
    "aurora[200]"
   ]
  },
  {
   "cell_type": "code",
   "execution_count": null,
   "metadata": {},
   "outputs": [],
   "source": []
  }
 ],
 "metadata": {
  "kernelspec": {
   "display_name": "Python 3",
   "language": "python",
   "name": "python3"
  },
  "language_info": {
   "codemirror_mode": {
    "name": "ipython",
    "version": 3
   },
   "file_extension": ".py",
   "mimetype": "text/x-python",
   "name": "python",
   "nbconvert_exporter": "python",
   "pygments_lexer": "ipython3",
   "version": "3.7.4"
  }
 },
 "nbformat": 4,
 "nbformat_minor": 2
}
