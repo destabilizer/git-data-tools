{
 "cells": [
  {
   "cell_type": "code",
   "execution_count": 4,
   "metadata": {},
   "outputs": [],
   "source": [
    "from rename_analysis import *"
   ]
  },
  {
   "cell_type": "code",
   "execution_count": 60,
   "metadata": {},
   "outputs": [
    {
     "data": {
      "text/plain": [
       "131072"
      ]
     },
     "execution_count": 60,
     "metadata": {},
     "output_type": "execute_result"
    }
   ],
   "source": [
    "import os\n",
    "import sys\n",
    "import csv\n",
    "\n",
    "csv.field_size_limit(sys.maxsize)"
   ]
  },
  {
   "cell_type": "code",
   "execution_count": 6,
   "metadata": {},
   "outputs": [],
   "source": [
    "jsons = lambda dr: list(map(lambda fn: dr+fn, filter(lambda fn: fn.endswith('.json'), os.listdir(dr))))"
   ]
  },
  {
   "cell_type": "code",
   "execution_count": 7,
   "metadata": {},
   "outputs": [],
   "source": [
    "aurora_diff_path = '/Users/Balaram.Usov/aurora_diff_new/'\n",
    "aurora_diff_jsons = jsons(aurora_diff_path)"
   ]
  },
  {
   "cell_type": "code",
   "execution_count": 23,
   "metadata": {},
   "outputs": [],
   "source": [
    "def renames_in_commits(diff_jsons):\n",
    "    rc = dict()\n",
    "    for json_fn in aurora_diff_jsons:\n",
    "        commit_hash = json_fn.split('/')[-1].split('-')[0]\n",
    "        if commit_hash not in rc.keys():\n",
    "            rc[commit_hash] = {'renames': list()}\n",
    "        try:\n",
    "            renames = list(renames_in_json(json_fn))\n",
    "        except json.JSONDecodeError:\n",
    "            renames = list()\n",
    "        rc[commit_hash]['renames'].extend(renames)\n",
    "    return rc"
   ]
  },
  {
   "cell_type": "code",
   "execution_count": 24,
   "metadata": {},
   "outputs": [],
   "source": [
    "aurora_renames = renames_in_commits(aurora_diff_jsons)"
   ]
  },
  {
   "cell_type": "code",
   "execution_count": 41,
   "metadata": {},
   "outputs": [],
   "source": [
    "with open(\"/Users/Balaram.Usov/aurora_renames.json\", \"w\") as f:\n",
    "    f.write(json.dumps(aurora_renames, indent=4))"
   ]
  },
  {
   "cell_type": "code",
   "execution_count": 28,
   "metadata": {},
   "outputs": [
    {
     "data": {
      "text/plain": [
       "20278"
      ]
     },
     "execution_count": 28,
     "metadata": {},
     "output_type": "execute_result"
    }
   ],
   "source": [
    "hashs = list(aurora_renames.keys())\n",
    "len(hashs)"
   ]
  },
  {
   "cell_type": "code",
   "execution_count": 39,
   "metadata": {},
   "outputs": [],
   "source": [
    "has_typo_fix = lambda d: len(list(filter(lambda s: s.startswith('fix typo'), d['renames'])))\n",
    "with_typo = lambda da: list(filter(has_typo_fix, da.values()))\n",
    "with_any_rename = lambda da: list(filter(lambda d: d['renames'], da.values()))"
   ]
  },
  {
   "cell_type": "code",
   "execution_count": 40,
   "metadata": {},
   "outputs": [
    {
     "data": {
      "text/plain": [
       "(1765, 9538)"
      ]
     },
     "execution_count": 40,
     "metadata": {},
     "output_type": "execute_result"
    }
   ],
   "source": [
    "len(with_typo(aurora_renames)), len(with_any_rename(aurora_renames))"
   ]
  },
  {
   "cell_type": "code",
   "execution_count": 61,
   "metadata": {},
   "outputs": [],
   "source": [
    "with_test = list()\n",
    "with open('/Users/Balaram.Usov/aurora_naive.csv') as csvf:\n",
    "    aurora_naive = csv.reader(csvf, delimiter='|', quotechar='\"')\n",
    "    for r in aurora_naive:\n",
    "        if 'test' in r[-1].lower():\n",
    "            with_test.append(r)"
   ]
  },
  {
   "cell_type": "code",
   "execution_count": 64,
   "metadata": {},
   "outputs": [],
   "source": [
    "with_test_and_has_test_in_message = list(filter(lambda r: 'test' in r[2].lower(), with_test))"
   ]
  },
  {
   "cell_type": "code",
   "execution_count": 70,
   "metadata": {},
   "outputs": [
    {
     "data": {
      "text/plain": [
       "['XmlPseudoTextElement.java [changed method XmlPseudoTextElement.getElementLength]',\n",
       " ' CodeFormatterFacade.java []',\n",
       " ' GeneralCodeFormatter.java [added new methods createSimpleInstance',\n",
       " ' getWhiteSpaceBetweenTokens to class GeneralCodeFormatter; changed method GeneralCodeFormatter.GeneralCodeFormatter]',\n",
       " ' PseudoTextArray.java [some changes in methods getElementLengthAt',\n",
       " ' getElementLength in class PseudoTextArray]',\n",
       " ' PseudoTextWrapper.java [some changes in methods registerNewSpaces',\n",
       " ' PseudoTextWrapper in class PseudoTextWrapper; cleanup in class PseudoTextWrapper]',\n",
       " ' JavaPseudoText.java [changed method JavaPseudoText.getElementLengthAt]',\n",
       " ' GeneralFormatterTest.java [massive update of class GeneralFormatterTest]',\n",
       " ' GeneralCodeFormatterTest.java [added new methods testGetWhitespaceBetweenTokens',\n",
       " ' formatAndCheckTextWasNotChanged to class GeneralCodeFormatterTest; some changes in methods test2',\n",
       " ' test3 in class GeneralCodeFormatterTest]',\n",
       " ' PseudoTextElementImpl.java [added new methods getTextRange',\n",
       " ' setRange to class PseudoTextElementImpl; changed method PseudoTextElementImpl.getElementLength]',\n",
       " ' PseudoTextImpl.java [changed method PseudoTextImpl.add]']"
      ]
     },
     "execution_count": 70,
     "metadata": {},
     "output_type": "execute_result"
    }
   ],
   "source": [
    "len(list(filter()))"
   ]
  },
  {
   "cell_type": "code",
   "execution_count": null,
   "metadata": {},
   "outputs": [],
   "source": []
  }
 ],
 "metadata": {
  "kernelspec": {
   "display_name": "Python 3",
   "language": "python",
   "name": "python3"
  },
  "language_info": {
   "codemirror_mode": {
    "name": "ipython",
    "version": 3
   },
   "file_extension": ".py",
   "mimetype": "text/x-python",
   "name": "python",
   "nbconvert_exporter": "python",
   "pygments_lexer": "ipython3",
   "version": "3.7.4"
  }
 },
 "nbformat": 4,
 "nbformat_minor": 2
}
