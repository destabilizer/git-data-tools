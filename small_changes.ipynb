{
 "cells": [
  {
   "cell_type": "code",
   "execution_count": 1,
   "metadata": {},
   "outputs": [],
   "source": [
    "from message_analysis import *\n",
    "from bisect import insort"
   ]
  },
  {
   "cell_type": "code",
   "execution_count": 2,
   "metadata": {},
   "outputs": [],
   "source": [
    "cl = load_json('/Users/balaram.usov/tokens_diffs/intellij_diff_blobs_identifiers.json')"
   ]
  },
  {
   "cell_type": "code",
   "execution_count": 3,
   "metadata": {},
   "outputs": [],
   "source": [
    "scl = list(filter(lambda c: is_commit_small(c, 15), cl))\n",
    "bcl = list(filter(lambda c: not is_commit_small(c, 15), cl))"
   ]
  },
  {
   "cell_type": "code",
   "execution_count": 4,
   "metadata": {},
   "outputs": [
    {
     "data": {
      "text/plain": [
       "(31530, 45144)"
      ]
     },
     "execution_count": 4,
     "metadata": {},
     "output_type": "execute_result"
    }
   ],
   "source": [
    "len(scl), len(bcl)"
   ]
  },
  {
   "cell_type": "code",
   "execution_count": 5,
   "metadata": {},
   "outputs": [],
   "source": [
    "scl_freq = wordfreq_of_messages(scl)\n",
    "bcl_freq = wordfreq_of_messages(bcl)"
   ]
  },
  {
   "cell_type": "code",
   "execution_count": 6,
   "metadata": {},
   "outputs": [
    {
     "name": "stdout",
     "output_type": "stream",
     "text": [
      "no message 6.8%\n",
      "extraction 7.62%\n",
      "move 7.48%\n",
      "code 6.7%\n",
      "java 6.64%\n",
      "rename 6.54%\n",
      "com 6.18%\n",
      "src 6.17%\n",
      "intellij 6.17%\n",
      "fixed 5.54%\n",
      "impl 5.33%\n",
      "actions 5.29%\n",
      "refactoring 4.51%\n",
      "tests 4.49%\n",
      "insight 4.44%\n",
      "moved 4.22%\n",
      "new 4.14%\n",
      "action 4.08%\n",
      "model 3.47%\n",
      "fix 3.45%\n",
      "package 3.37%\n",
      "inspection 2.8%\n",
      "test 2.76%\n",
      "debugger 2.74%\n",
      "trunk 2.6%\n",
      "cleanup 2.59%\n",
      "abstract 2.57%\n",
      "fixes 2.56%\n",
      "http 2.56%\n",
      "jetbrains 2.55%\n",
      "demetra 2.55%\n",
      "browse 2.52%\n",
      "www 2.51%\n",
      "net 2.51%\n",
      "jira 2.49%\n",
      "openapi 2.49%\n",
      "inside 2.41%\n",
      "changes 2.29%\n",
      "layout 2.04%\n",
      "annotating 1.93%\n",
      "add 1.87%\n",
      "module 1.86%\n",
      "file 1.79%\n",
      "dom 1.74%\n",
      "removed 1.7%\n",
      "modularization 1.69%\n",
      "moving 1.69%\n",
      "processor 1.68%\n",
      "modules 1.64%\n",
      "added 1.64%\n"
     ]
    }
   ],
   "source": [
    "print_freq(scl_freq[:50])"
   ]
  },
  {
   "cell_type": "code",
   "execution_count": 7,
   "metadata": {},
   "outputs": [
    {
     "name": "stdout",
     "output_type": "stream",
     "text": [
      "no message 5.49%\n",
      "updated 6.58%\n",
      "copyright 6.22%\n",
      "license 6.01%\n",
      "fixed 5.91%\n",
      "headers 5.91%\n",
      "apache 5.91%\n",
      "trunk 5.1%\n",
      "demetra 4.88%\n",
      "refactoring 4.31%\n",
      "graph 4.25%\n",
      "changes 3.64%\n",
      "new 3.53%\n",
      "inspection 3.5%\n",
      "code 3.34%\n",
      "file 3.06%\n",
      "fix 3.05%\n",
      "model 2.94%\n",
      "framework 2.68%\n",
      "support 2.61%\n",
      "cleanup 2.59%\n",
      "added 2.37%\n",
      "method 2.18%\n",
      "fixes 2.16%\n",
      "work 2.11%\n",
      "test 2.11%\n",
      "methods 2.04%\n",
      "progress 2.0%\n",
      "initial 1.96%\n",
      "add 1.94%\n",
      "tests 1.93%\n",
      "view 1.92%\n",
      "one 1.86%\n",
      "files 1.79%\n",
      "abstract 1.77%\n",
      "psi 1.74%\n",
      "jetbrains 1.69%\n",
      "error 1.69%\n",
      "compliant 1.67%\n",
      "tree 1.66%\n",
      "jsp 1.65%\n",
      "string 1.63%\n",
      "http 1.61%\n",
      "highlighting 1.6%\n",
      "www 1.59%\n",
      "net 1.59%\n",
      "browse 1.57%\n",
      "visitor 1.55%\n",
      "jira 1.55%\n",
      "action 1.53%\n"
     ]
    }
   ],
   "source": [
    "print_freq(bcl_freq[:50])"
   ]
  },
  {
   "cell_type": "code",
   "execution_count": 8,
   "metadata": {},
   "outputs": [],
   "source": [
    "fs, fb = find_related_features(scl_freq, bcl_freq, coeff=5)"
   ]
  },
  {
   "cell_type": "code",
   "execution_count": 9,
   "metadata": {},
   "outputs": [
    {
     "name": "stdout",
     "output_type": "stream",
     "text": [
      "7.62% extraction [156.39]\n",
      "7.48% move [7.82]\n",
      "6.54% rename [9.65]\n",
      "6.18% com [18.98]\n",
      "6.17% src [185.75]\n",
      "6.17% intellij [27.29]\n",
      "5.33% impl [12.59]\n",
      "5.29% actions [7.78]\n",
      "4.44% insight [64.71]\n",
      "2.74% debugger [12.01]\n",
      "2.41% inside [6.56]\n",
      "1.93% annotating [9.57]\n",
      "1.69% modularization [40.24]\n",
      "1.68% processor [69.12]\n",
      "1.64% modules [6.03]\n",
      "1.48% idea [5.49]\n",
      "1.32% inner [15.31]\n",
      "1.26% anonymous [51.67]\n",
      "1.09% watch [82.33]\n",
      "1.02% nulled [12.46]\n",
      "0.99% extractions [inf]\n",
      "0.88% ee [9.22]\n",
      "0.56% suppressing [6.46]\n",
      "0.49% executions [inf]\n",
      "0.4% nls [5.47]\n",
      "0.35% reformatting [12.0]\n",
      "0.31% redundant [6.38]\n",
      "0.24% expose [18.14]\n",
      "0.23% nullity [7.26]\n",
      "0.22% newcode [6.26]\n",
      "0.2% de [7.64]\n",
      "0.2% interfaced [8.33]\n",
      "0.19% wherever [10.92]\n",
      "0.18% disposing [6.68]\n",
      "0.16% reformatted [10.64]\n",
      "0.15% fixups [22.43]\n",
      "0.11% obfuscator [6.26]\n",
      "0.1% squeeze [6.34]\n",
      "0.1% performnace [6.34]\n",
      "0.09% ranges [5.52]\n",
      "0.08% instrumenting [37.23]\n",
      "0.06% protected [14.32]\n",
      "0.06% synonyms [6.44]\n",
      "0.06% subtree [6.44]\n",
      "0.05% runs [5.73]\n",
      "0.05% combobox [5.73]\n",
      "0.05% committed [11.45]\n",
      "0.05% closes [7.16]\n",
      "0.05% continuous [21.48]\n",
      "0.05% respective [inf]\n",
      "0.04% returned [6.68]\n",
      "0.04% compilers [6.68]\n",
      "0.04% subsystem [9.31]\n",
      "0.04% branches [5.73]\n",
      "0.03% removes [5.25]\n",
      "0.03% couple [5.25]\n",
      "0.03% mutually [7.16]\n",
      "0.03% gor [14.32]\n",
      "0.03% cloneable [inf]\n",
      "0.03% shifted [6.44]\n",
      "0.03% stylesheets [5.73]\n",
      "0.02% requests [5.01]\n",
      "0.02% enteraction [5.01]\n",
      "0.02% deploying [5.01]\n",
      "0.02% dependant [5.01]\n",
      "0.02% exported [10.02]\n",
      "0.02% autounboxing [10.02]\n",
      "0.02% ptmztn [inf]\n",
      "0.02% pfrmnce [inf]\n",
      "0.02% mnr [inf]\n",
      "0.02% sure [8.59]\n",
      "0.02% bridge [8.59]\n",
      "0.02% cancelling [inf]\n",
      "0.02% webdirs [7.16]\n",
      "0.02% trying [7.16]\n",
      "0.02% loader [7.16]\n",
      "0.02% days [7.16]\n",
      "0.02% breakage [inf]\n",
      "0.01% trivial [5.73]\n",
      "0.01% sized [5.73]\n",
      "0.01% reused [5.73]\n",
      "0.01% resulting [5.73]\n",
      "0.01% reading [5.73]\n",
      "0.01% proxies [5.73]\n",
      "0.01% permanently [5.73]\n",
      "0.01% period [5.73]\n",
      "0.01% occurences [5.73]\n",
      "0.01% lockup [5.73]\n",
      "0.01% enabling [5.73]\n",
      "0.01% correctness [5.73]\n",
      "0.01% writeaction [inf]\n",
      "0.01% week [inf]\n",
      "0.01% vaue [inf]\n",
      "0.01% utilities [inf]\n",
      "0.01% rewording [inf]\n",
      "0.01% interner [inf]\n",
      "0.01% impossible [inf]\n",
      "0.01% boot [inf]\n",
      "0.01% ascii [inf]\n",
      "0.01% among [inf]\n",
      "0.01% unscrabmle [inf]\n",
      "0.01% understandable [inf]\n",
      "0.01% trackback [inf]\n",
      "0.01% th [inf]\n",
      "0.01% strip [inf]\n",
      "0.01% occurencies [inf]\n",
      "0.01% magic [inf]\n",
      "0.01% firing [inf]\n",
      "0.01% ever [inf]\n",
      "0.01% eval [inf]\n",
      "0.01% eclipsability [inf]\n",
      "0.01% disposers [inf]\n",
      "0.01% deprecation [inf]\n",
      "0.01% cover [inf]\n",
      "0.01% compound [inf]\n",
      "0.01% catches [inf]\n",
      "0.01% bugdatabase [inf]\n",
      "0.01% accordint [inf]\n",
      "0.01% writeable [inf]\n",
      "0.01% woof [inf]\n",
      "0.01% webmodule [inf]\n",
      "0.01% webdir [inf]\n",
      "0.01% unpredictable [inf]\n",
      "0.01% undisposed [inf]\n",
      "0.01% unary [inf]\n",
      "0.01% triggers [inf]\n",
      "0.01% tries [inf]\n",
      "0.01% translating [inf]\n",
      "0.01% touches [inf]\n",
      "0.01% thrown [inf]\n",
      "0.01% tearing [inf]\n",
      "0.01% supressed [inf]\n",
      "0.01% structurally [inf]\n",
      "0.01% stopping [inf]\n",
      "0.01% stall [inf]\n",
      "0.01% shutdown [inf]\n",
      "0.01% severe [inf]\n",
      "0.01% servers [inf]\n",
      "0.01% seen [inf]\n",
      "0.01% robust [inf]\n",
      "0.01% retruns [inf]\n",
      "0.01% resultsets [inf]\n",
      "0.01% remnants [inf]\n",
      "0.01% redist [inf]\n",
      "0.01% psielement [inf]\n",
      "0.01% prematurely [inf]\n",
      "0.01% predicate [inf]\n",
      "0.01% positives [inf]\n",
      "0.01% pa [inf]\n",
      "0.01% omitted [inf]\n"
     ]
    }
   ],
   "source": [
    "print_features(fs[:150])"
   ]
  },
  {
   "cell_type": "code",
   "execution_count": 10,
   "metadata": {},
   "outputs": [
    {
     "name": "stdout",
     "output_type": "stream",
     "text": [
      "6.58% updated [36.4]\n",
      "6.22% copyright [245.06]\n",
      "6.01% license [70.13]\n",
      "5.91% headers [inf]\n",
      "5.91% apache [inf]\n",
      "2.68% framework [18.37]\n",
      "1.67% compliant [inf]\n",
      "1.55% visitor [7.09]\n",
      "1.44% two [8.08]\n",
      "1.42% base [6.56]\n",
      "1.39% replaced [7.31]\n",
      "1.32% result [10.14]\n",
      "1.32% could [11.54]\n",
      "1.28% simplified [21.28]\n",
      "1.27% much [16.01]\n",
      "1.27% every [17.4]\n",
      "1.24% vararg [22.92]\n",
      "1.23% affect [21.57]\n",
      "1.23% grand [22.84]\n",
      "0.62% schemas [10.29]\n",
      "0.57% products [14.96]\n",
      "0.37% svn [6.78]\n",
      "0.34% factory [5.66]\n",
      "0.33% pfd [5.48]\n",
      "0.33% setters [102.67]\n",
      "0.32% spec [8.44]\n",
      "0.31% latest [9.85]\n",
      "0.23% way [7.12]\n",
      "0.23% surround [7.92]\n",
      "0.22% goodies [5.7]\n",
      "0.21% landed [inf]\n",
      "0.19% seems [5.94]\n",
      "0.18% modify [13.97]\n",
      "0.16% comply [51.68]\n",
      "0.16% arrays [12.75]\n",
      "0.16% slow [inf]\n",
      "0.16% dev [6.98]\n",
      "0.14% lib [7.45]\n",
      "0.14% uploaded [inf]\n",
      "0.14% corrections [8.8]\n",
      "0.14% rendering [11.0]\n",
      "0.14% languages [7.1]\n",
      "0.13% thumbnails [5.24]\n",
      "0.12% skeleton [19.21]\n",
      "0.12% charat [19.21]\n",
      "0.11% notes [inf]\n",
      "0.11% features [8.38]\n",
      "0.1% quintsoft [inf]\n",
      "0.1% row [5.24]\n",
      "0.1% filters [6.01]\n",
      "0.09% information [5.87]\n",
      "0.08% selector [8.61]\n",
      "0.08% capabilities [6.11]\n",
      "0.07% opened [5.76]\n",
      "0.07% locally [5.59]\n",
      "0.07% tokens [7.22]\n",
      "0.07% wizard [6.98]\n",
      "0.07% sanity [6.98]\n",
      "0.06% query [6.75]\n",
      "0.06% includes [10.13]\n",
      "0.06% constraint [6.52]\n",
      "0.06% reuse [6.29]\n",
      "0.06% saved [9.43]\n",
      "0.06% alloy [18.86]\n",
      "0.06% directives [9.08]\n",
      "0.06% treat [5.82]\n",
      "0.05% styles [5.59]\n",
      "0.05% card [16.76]\n",
      "0.05% conflict [5.35]\n",
      "0.05% colors [5.35]\n",
      "0.05% refactorigs [16.06]\n",
      "0.05% finder [16.06]\n",
      "0.05% enterprise [16.06]\n",
      "0.05% codegen [16.06]\n",
      "0.05% bundled [5.12]\n",
      "0.05% statements [7.68]\n",
      "0.05% customization [15.37]\n",
      "0.05% ported [inf]\n",
      "0.04% subselect [6.98]\n",
      "0.04% fetch [6.98]\n",
      "0.04% explicitly [6.98]\n",
      "0.04% ex [6.98]\n",
      "0.04% pluggability [6.64]\n",
      "0.04% reimplemented [13.27]\n",
      "0.04% complex [6.29]\n",
      "0.04% messagedriven [12.57]\n",
      "0.04% specifying [5.94]\n",
      "0.04% elaborated [5.94]\n",
      "0.04% studio [11.87]\n",
      "0.04% macros [11.87]\n",
      "0.04% javscript [inf]\n",
      "0.04% comparaing [inf]\n",
      "0.04% parallel [5.59]\n",
      "0.04% ext [5.59]\n",
      "0.04% reporter [11.17]\n",
      "0.04% mapped [11.17]\n",
      "0.03% skip [5.24]\n",
      "0.03% justification [5.24]\n",
      "0.03% humps [5.24]\n",
      "0.03% honoring [5.24]\n",
      "0.03% generating [5.24]\n",
      "0.03% dimension [5.24]\n",
      "0.03% compatible [5.24]\n",
      "0.03% simplification [10.48]\n",
      "0.03% edits [inf]\n",
      "0.03% switching [9.78]\n",
      "0.03% checkout [9.78]\n",
      "0.03% bugtracking [9.78]\n",
      "0.03% unboxing [9.08]\n",
      "0.03% minimized [9.08]\n",
      "0.03% min [9.08]\n",
      "0.03% formats [9.08]\n",
      "0.03% associated [9.08]\n",
      "0.03% deexternalized [inf]\n",
      "0.03% covariant [inf]\n",
      "0.03% subtag [8.38]\n",
      "0.03% rewrite [8.38]\n",
      "0.03% locale [8.38]\n",
      "0.03% erroneously [8.38]\n",
      "0.03% selects [inf]\n",
      "0.03% infor [inf]\n",
      "0.03% hardcode [inf]\n",
      "0.03% extensible [inf]\n",
      "0.03% docs [inf]\n",
      "0.03% clears [inf]\n",
      "0.02% whenever [7.68]\n",
      "0.02% sequential [7.68]\n",
      "0.02% pull [7.68]\n",
      "0.02% link [7.68]\n",
      "0.02% introspected [7.68]\n",
      "0.02% generalising [7.68]\n",
      "0.02% detected [7.68]\n",
      "0.02% authentication [7.68]\n",
      "0.02% area [7.68]\n",
      "0.02% subdirectories [inf]\n",
      "0.02% os [inf]\n",
      "0.02% defs [inf]\n",
      "0.02% yourkit [6.98]\n",
      "0.02% trace [6.98]\n",
      "0.02% splitted [6.98]\n",
      "0.02% poups [6.98]\n",
      "0.02% limited [6.98]\n",
      "0.02% inentions [6.98]\n",
      "0.02% image [6.98]\n",
      "0.02% facelets [6.98]\n",
      "0.02% evaluating [6.98]\n",
      "0.02% builds [6.98]\n",
      "0.02% aggregate [6.98]\n",
      "0.02% unlimited [inf]\n",
      "0.02% software [inf]\n"
     ]
    }
   ],
   "source": [
    "print_features(fb[:150])"
   ]
  },
  {
   "cell_type": "code",
   "execution_count": 11,
   "metadata": {},
   "outputs": [],
   "source": [
    "smallcat = categories_from_text(open('/Users/Balaram.Usov/small_message_categories.txt').read())\n",
    "catkeys = list(smallcat.keys())"
   ]
  },
  {
   "cell_type": "code",
   "execution_count": 12,
   "metadata": {},
   "outputs": [],
   "source": [
    "all_tokens = dict()\n",
    "for c in scl:\n",
    "    for w in c['allTokens']:\n",
    "        if w not in all_tokens.keys(): all_tokens[w] = 0\n",
    "        all_tokens[w] += 1\n",
    "sorted_tokens = list(reversed(sorted(map(lambda wf: tuple(reversed(wf)), all_tokens.items()))))"
   ]
  },
  {
   "cell_type": "code",
   "execution_count": 13,
   "metadata": {},
   "outputs": [],
   "source": [
    "def vec_of_data(commit, features):\n",
    "    ctok = dict()\n",
    "    for t in commit['allTokens']:\n",
    "        if t in ctok.keys():\n",
    "            ctok[t] += 1\n",
    "        else:\n",
    "            ctok[t] = 1\n",
    "    fvec = list()\n",
    "    for f in features:\n",
    "        if f in ctok.keys():\n",
    "            fvec.append(ctok[f])\n",
    "        else:\n",
    "            fvec.append(0)\n",
    "    return fvec"
   ]
  },
  {
   "cell_type": "code",
   "execution_count": 14,
   "metadata": {},
   "outputs": [],
   "source": [
    "def vec_of_categories(commit):\n",
    "    l = list()\n",
    "    tokens = set(filter(check_word, code_tokenize(commit['message'])))\n",
    "    for k in catkeys:\n",
    "        for cat in smallcat[k]:\n",
    "            if cat in tokens:\n",
    "                l.append(1)\n",
    "                break\n",
    "        else:\n",
    "            l.append(0)\n",
    "    return l"
   ]
  },
  {
   "cell_type": "code",
   "execution_count": 15,
   "metadata": {},
   "outputs": [],
   "source": [
    "def split_with_and_no_message(commitlist):\n",
    "    withmsg, nomsg = list(), list()\n",
    "    for c in commitlist:\n",
    "        if c['message'] == '(no message)':\n",
    "            nomsg.append(c)\n",
    "        else:\n",
    "            withmsg.append(c)\n",
    "    return withmsg, nomsg"
   ]
  },
  {
   "cell_type": "code",
   "execution_count": 16,
   "metadata": {},
   "outputs": [],
   "source": [
    "scl_msg, scl_no = split_with_and_no_message(scl)"
   ]
  },
  {
   "cell_type": "code",
   "execution_count": 17,
   "metadata": {},
   "outputs": [
    {
     "data": {
      "text/plain": [
       "(29385, 2145)"
      ]
     },
     "execution_count": 17,
     "metadata": {},
     "output_type": "execute_result"
    }
   ],
   "source": [
    "len(scl_msg), len(scl_no)"
   ]
  },
  {
   "cell_type": "code",
   "execution_count": 18,
   "metadata": {},
   "outputs": [],
   "source": [
    "import numpy as np\n",
    "#x = np.array(list(map(vec_of_data, scl_msg)))\n",
    "y = np.array(list(map(vec_of_categories, scl_msg)))"
   ]
  },
  {
   "cell_type": "code",
   "execution_count": 19,
   "metadata": {},
   "outputs": [],
   "source": [
    "from sklearn.model_selection import train_test_split\n",
    "from sklearn.naive_bayes import MultinomialNB\n",
    "from sklearn.metrics import recall_score, precision_score\n",
    "from sklearn.svm import SVC\n",
    "from sklearn.feature_extraction.text import TfidfVectorizer\n",
    "from sklearn.feature_selection import VarianceThreshold"
   ]
  },
  {
   "cell_type": "code",
   "execution_count": 20,
   "metadata": {},
   "outputs": [],
   "source": [
    "corpus = list(map(lambda c: ' '.join(c['allTokens']), scl_msg))"
   ]
  },
  {
   "cell_type": "code",
   "execution_count": 21,
   "metadata": {},
   "outputs": [
    {
     "data": {
      "text/plain": [
       "29385"
      ]
     },
     "execution_count": 21,
     "metadata": {},
     "output_type": "execute_result"
    }
   ],
   "source": [
    "len(corpus)"
   ]
  },
  {
   "cell_type": "code",
   "execution_count": 22,
   "metadata": {},
   "outputs": [],
   "source": [
    "vectorizer = TfidfVectorizer()\n",
    "X = vectorizer.fit_transform(corpus)"
   ]
  },
  {
   "cell_type": "code",
   "execution_count": 23,
   "metadata": {},
   "outputs": [],
   "source": [
    "sel = VarianceThreshold(threshold=0.0001)\n",
    "X_best = sel.fit_transform(X)\n",
    "sel_features_bool = sel.get_support()"
   ]
  },
  {
   "cell_type": "code",
   "execution_count": 24,
   "metadata": {},
   "outputs": [],
   "source": [
    "best_features = list(map(lambda bd: bd[1], filter(lambda bd: bd[0], zip(sel_features_bool, vectorizer.get_feature_names()))))"
   ]
  },
  {
   "cell_type": "code",
   "execution_count": 25,
   "metadata": {},
   "outputs": [
    {
     "data": {
      "text/plain": [
       "818"
      ]
     },
     "execution_count": 25,
     "metadata": {},
     "output_type": "execute_result"
    }
   ],
   "source": [
    "len(best_features)"
   ]
  },
  {
   "cell_type": "code",
   "execution_count": 26,
   "metadata": {},
   "outputs": [],
   "source": [
    "x_train, x_test, y_train, y_test = train_test_split(X_best, y, test_size=0.2, random_state=42)"
   ]
  },
  {
   "cell_type": "code",
   "execution_count": 27,
   "metadata": {},
   "outputs": [
    {
     "data": {
      "text/plain": [
       "((23508, 818), (23508, 31))"
      ]
     },
     "execution_count": 27,
     "metadata": {},
     "output_type": "execute_result"
    }
   ],
   "source": [
    "x_train.shape, y_train.shape"
   ]
  },
  {
   "cell_type": "code",
   "execution_count": 28,
   "metadata": {},
   "outputs": [],
   "source": [
    "clf_nb = list()\n",
    "for i in range(len(catkeys)):\n",
    "    clf = MultinomialNB()\n",
    "    #clf = SVC(gamma='auto')\n",
    "    clf.fit(x_train, y_train[:,i])\n",
    "    clf_nb.append(clf)"
   ]
  },
  {
   "cell_type": "code",
   "execution_count": 29,
   "metadata": {
    "scrolled": true
   },
   "outputs": [
    {
     "name": "stdout",
     "output_type": "stream",
     "text": [
      "0 minor 1.152799047132891\n",
      "1 fix 12.229879190062958\n",
      "2 refactor 0.11485451761102604\n",
      "3 new 6.419091373149566\n",
      "4 extend 0.10209290454313426\n",
      "5 extraction 9.409562702058874\n",
      "6 move 9.503147864556746\n",
      "7 rename 7.818614939595031\n",
      "8 intellij 8.065339458907605\n",
      "9 actions 5.525778458397141\n",
      "10 insight 4.836651352730986\n",
      "11 inner 3.9390845669559296\n",
      "12 bug 0.7954738812319211\n",
      "13 debugger 2.9394248766377404\n",
      "14 package 4.202824570359027\n",
      "15 meta 4.1432703760421985\n",
      "16 module 5.610855878849754\n",
      "17 null 2.6203845499404457\n",
      "18 generify 0.47643355453462655\n",
      "19 reformatting 0.6083035562361749\n",
      "20 performance 1.0592138846350179\n",
      "21 anonymous 1.2804151778118087\n",
      "22 optimization 0.7742045261187681\n",
      "23 typo 0.08933129147524246\n",
      "24 clean 2.9053939084566953\n",
      "25 model 3.6200442402586352\n",
      "26 support 1.3910158244002042\n",
      "27 latest 0.025523226135783564\n",
      "28 squeeze 0.11910838863365664\n",
      "29 speed 0.11485451761102604\n",
      "30 test 6.925302024842607\n"
     ]
    }
   ],
   "source": [
    "for i in range(len(catkeys)):\n",
    "    print(i, catkeys[i], len(list(filter(lambda n: n != 0, y_train[:,i])))/len(y_train[:,i])*100)"
   ]
  },
  {
   "cell_type": "code",
   "execution_count": null,
   "metadata": {},
   "outputs": [],
   "source": [
    "#cat = catkeys[7]\n",
    "#raw_train_y = y_train[:,7]\n",
    "\n",
    "#rename_clf = SVC(gamma='auto')\n",
    "# wtf is this"
   ]
  },
  {
   "cell_type": "code",
   "execution_count": 33,
   "metadata": {
    "scrolled": true
   },
   "outputs": [
    {
     "name": "stdout",
     "output_type": "stream",
     "text": [
      "minor        \t 0.0 \t 0.0\n",
      "fix          \t 5.8 \t 67.2\n",
      "refactor     \t 0.0 \t 0.0\n",
      "new          \t 8.9 \t 89.2\n",
      "extend       \t 0.0 \t 0.0\n",
      "extraction   \t 0.0 \t 0.0\n",
      "move         \t 10.6 \t 78.3\n",
      "rename       \t 6.7 \t 91.9\n",
      "intellij     \t 0.2 \t 20.0\n",
      "actions      \t 0.8 \t 75.0\n",
      "insight      \t 0.0 \t 0.0\n",
      "inner        \t 0.0 \t 0.0\n",
      "bug          \t 0.0 \t 0.0\n",
      "debugger     \t 0.0 \t 0.0\n",
      "package      \t 75.2 \t 61.9\n",
      "meta         \t 41.5 \t 52.3\n",
      "module       \t 12.0 \t 34.2\n",
      "null         \t 1.2 \t 100.0\n",
      "generify     \t 0.0 \t 0.0\n",
      "reformatting \t 0.0 \t 0.0\n",
      "performance  \t 0.0 \t 0.0\n",
      "anonymous    \t 0.0 \t 0.0\n",
      "optimization \t 0.0 \t 0.0\n",
      "typo         \t 0.0 \t 0.0\n",
      "clean        \t 0.0 \t 0.0\n",
      "model        \t 28.1 \t 86.1\n",
      "support      \t 1.2 \t 100.0\n",
      "latest       \t 0.0 \t 0.0\n",
      "squeeze      \t 0.0 \t 0.0\n",
      "speed        \t 0.0 \t 0.0\n",
      "test         \t 6.4 \t 62.5\n"
     ]
    }
   ],
   "source": [
    "for i in range(len(catkeys)):\n",
    "    clf = clf_nb[i]\n",
    "    y_predict = clf.predict(x_test)\n",
    "    ap = recall_score(y_test[:,i], y_predict)\n",
    "    pp = precision_score(y_test[:,i], y_predict)\n",
    "    print(catkeys[i] + ' '*(max(map(len, catkeys))-len(catkeys[i])), '\\t', round(100*ap, 1), '\\t', round(100*pp, 1))"
   ]
  },
  {
   "cell_type": "code",
   "execution_count": 31,
   "metadata": {},
   "outputs": [],
   "source": [
    "good_cat_clf = list()\n",
    "for i in range(len(catkeys)):\n",
    "    clf = clf_nb[i]\n",
    "    y_predict = clf.predict(x_test)\n",
    "    prec = precision_score(y_test[:,i], y_predict)\n",
    "    if prec >= 0.55:\n",
    "        good_cat_clf.append([i, catkeys[i], clf])"
   ]
  },
  {
   "cell_type": "code",
   "execution_count": 34,
   "metadata": {
    "scrolled": false
   },
   "outputs": [
    {
     "data": {
      "text/plain": [
       "[[1, 'fix', MultinomialNB(alpha=1.0, class_prior=None, fit_prior=True)],\n",
       " [3, 'new', MultinomialNB(alpha=1.0, class_prior=None, fit_prior=True)],\n",
       " [6, 'move', MultinomialNB(alpha=1.0, class_prior=None, fit_prior=True)],\n",
       " [7, 'rename', MultinomialNB(alpha=1.0, class_prior=None, fit_prior=True)],\n",
       " [9, 'actions', MultinomialNB(alpha=1.0, class_prior=None, fit_prior=True)],\n",
       " [14, 'package', MultinomialNB(alpha=1.0, class_prior=None, fit_prior=True)],\n",
       " [17, 'null', MultinomialNB(alpha=1.0, class_prior=None, fit_prior=True)],\n",
       " [25, 'model', MultinomialNB(alpha=1.0, class_prior=None, fit_prior=True)],\n",
       " [26, 'support', MultinomialNB(alpha=1.0, class_prior=None, fit_prior=True)],\n",
       " [30, 'test', MultinomialNB(alpha=1.0, class_prior=None, fit_prior=True)]]"
      ]
     },
     "execution_count": 34,
     "metadata": {},
     "output_type": "execute_result"
    }
   ],
   "source": [
    "good_cat_clf"
   ]
  },
  {
   "cell_type": "code",
   "execution_count": 81,
   "metadata": {},
   "outputs": [],
   "source": [
    "def calc_score(score_func, y_pred_proba, y_test, tsh, check_no_samples=False):\n",
    "    scores = list()\n",
    "    for t in tsh:\n",
    "        y_pred = y_pred_proba >= t\n",
    "        if check_no_samples and not np.any(y_pred):\n",
    "            s = 1.0\n",
    "        else:\n",
    "            s = score_func(y_test, y_pred)\n",
    "        scores.append(s)\n",
    "    return np.array(scores)\n",
    "\n",
    "def rpcurve(clf, x_test, y_test, start=0, stop=1, step=.05):\n",
    "    tsh = np.arange(start, stop+step, step)\n",
    "    y_pred_proba = clf.predict_proba(x_test)[:,1]\n",
    "    recl = calc_score(recall_score, y_pred_proba, y_test, tsh)\n",
    "    prec = calc_score(precision_score, y_pred_proba, y_test, tsh, check_no_samples=True)\n",
    "    return tsh, recl, prec"
   ]
  },
  {
   "cell_type": "code",
   "execution_count": 96,
   "metadata": {},
   "outputs": [],
   "source": [
    "curves = list()\n",
    "for i, catname, clf in good_cat_clf:\n",
    "     curves.append(rpcurve(clf, x_test, y_test[:,i]))"
   ]
  },
  {
   "cell_type": "code",
   "execution_count": 97,
   "metadata": {},
   "outputs": [],
   "source": [
    "import matplotlib.pyplot as plt"
   ]
  },
  {
   "cell_type": "code",
   "execution_count": 98,
   "metadata": {},
   "outputs": [],
   "source": [
    "def draw_curve(i):\n",
    "    _, catname, _   = good_cat_clf[i]\n",
    "    tsh, recl, prec = curves[i]\n",
    "    plt.plot(tsh, recl)\n",
    "    plt.plot(tsh, prec)\n",
    "    plt.title(catname)\n",
    "    plt.xlabel('threshold')\n",
    "    plt.show()"
   ]
  },
  {
   "cell_type": "code",
   "execution_count": 101,
   "metadata": {},
   "outputs": [
    {
     "data": {
      "image/png": "[encoded data removed]",
      "text/plain": [
       "<Figure size 432x288 with 1 Axes>"
      ]
     },
     "metadata": {
      "needs_background": "light"
     },
     "output_type": "display_data"
    }
   ],
   "source": [
    "draw_curve(5)"
   ]
  },
  {
   "cell_type": "code",
   "execution_count": null,
   "metadata": {},
   "outputs": [],
   "source": [
    "def predict_categories(commit):\n",
    "    catnames = list()\n",
    "    commit_vec = np.array(vec_of_data(commit, best_features)).reshape(1, -1)\n",
    "    for i, catname, clf in good_cat_clf:\n",
    "        pr = clf.predict(commit_vec)\n",
    "        if pr == 1: catnames.append(catname)\n",
    "    return catnames"
   ]
  },
  {
   "cell_type": "code",
   "execution_count": null,
   "metadata": {},
   "outputs": [],
   "source": [
    "for c in scl_no:\n",
    "    c_cats = predict_categories(c)\n",
    "    if c_cats:\n",
    "        print(c, '\\n', c_cats)"
   ]
  },
  {
   "cell_type": "code",
   "execution_count": null,
   "metadata": {},
   "outputs": [],
   "source": [
    "aurora_cl_1 = load_json('/Users/Balaram.Usov/tokens_diffs/aurora_diff_blobs_identifiers_all_aurora_1.json')\n",
    "aurora_cl_2 = load_json('/Users/Balaram.Usov/tokens_diffs/aurora_diff_blobs_identifiers_all_aurora_2.json')"
   ]
  },
  {
   "cell_type": "code",
   "execution_count": null,
   "metadata": {},
   "outputs": [],
   "source": [
    "acl = aurora_cl_1 + aurora_cl_2"
   ]
  },
  {
   "cell_type": "code",
   "execution_count": null,
   "metadata": {},
   "outputs": [],
   "source": [
    "def _split_with_and_no_message(commitlist):\n",
    "    withmsg, nomsg = list(), list()\n",
    "    for c in commitlist:\n",
    "        if 'no message' in c['message']:\n",
    "            nomsg.append(c)\n",
    "        else:\n",
    "            withmsg.append(c)\n",
    "    return withmsg, nomsg"
   ]
  },
  {
   "cell_type": "code",
   "execution_count": null,
   "metadata": {},
   "outputs": [],
   "source": [
    "acl_msg, acl_no = _split_with_and_no_message(acl)"
   ]
  },
  {
   "cell_type": "code",
   "execution_count": null,
   "metadata": {},
   "outputs": [],
   "source": [
    "len(acl_msg), len(acl_no)"
   ]
  },
  {
   "cell_type": "code",
   "execution_count": null,
   "metadata": {},
   "outputs": [],
   "source": [
    "for c in acl:\n",
    "    cats = predict_categories(c)\n",
    "    c['categories'] = cats"
   ]
  },
  {
   "cell_type": "code",
   "execution_count": null,
   "metadata": {},
   "outputs": [],
   "source": [
    "with open('/Users/Balaram.Usov/aurora_small_changes.json', 'w') as f:\n",
    "    f.write(json.dumps(acl, indent=4))"
   ]
  }
 ],
 "metadata": {
  "kernelspec": {
   "display_name": "Python 3",
   "language": "python",
   "name": "python3"
  },
  "language_info": {
   "codemirror_mode": {
    "name": "ipython",
    "version": 3
   },
   "file_extension": ".py",
   "mimetype": "text/x-python",
   "name": "python",
   "nbconvert_exporter": "python",
   "pygments_lexer": "ipython3",
   "version": "3.7.4"
  }
 },
 "nbformat": 4,
 "nbformat_minor": 2
}
